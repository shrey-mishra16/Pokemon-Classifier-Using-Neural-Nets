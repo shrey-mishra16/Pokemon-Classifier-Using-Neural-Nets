{
 "cells": [
  {
   "cell_type": "code",
   "execution_count": 1,
   "metadata": {},
   "outputs": [],
   "source": [
    "import numpy as np"
   ]
  },
  {
   "cell_type": "code",
   "execution_count": 2,
   "metadata": {},
   "outputs": [],
   "source": [
    "inp_size = 5\n",
    "layers = [4,3,3] #number of neurons in each layer\n",
    "op_size = 3"
   ]
  },
  {
   "cell_type": "code",
   "execution_count": null,
   "metadata": {},
   "outputs": [],
   "source": [
    "class NeuralNetwork:\n",
    "    \n",
    "    def __init__(self,inp_size,layers,op_size):\n",
    "        np.random.seed(0)\n",
    "        \n",
    "        model ={}\n",
    "        \n",
    "        model['W1'] = np.random.randn(inp_size,layers[0])\n",
    "        model['B1']=np.zeros((1,layers[0]))\n",
    "        \n",
    "        model['W2'] = np.random.randn(layers[0],layers[1])\n",
    "        model['B2']=np.zeros((1,layers[1]))\n",
    "        \n",
    "        model['W3'] = np.random.randn(layers[1],layers[2])\n",
    "        model['B3'] = np.zeros((1,layers[2]))\n",
    "        \n",
    "        model['W4'] = np.random.randn(layers[2],op_size)\n",
    "        model['B4'] = np.zeros((1,op_size))\n",
    "        \n",
    "        self.model =model\n",
    "                             "
   ]
  }
 ],
 "metadata": {
  "kernelspec": {
   "display_name": "Python 3",
   "language": "python",
   "name": "python3"
  },
  "language_info": {
   "codemirror_mode": {
    "name": "ipython",
    "version": 3
   },
   "file_extension": ".py",
   "mimetype": "text/x-python",
   "name": "python",
   "nbconvert_exporter": "python",
   "pygments_lexer": "ipython3",
   "version": "3.7.1"
  }
 },
 "nbformat": 4,
 "nbformat_minor": 2
}
